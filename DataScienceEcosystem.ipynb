{
 "cells": [
  {
   "cell_type": "markdown",
   "id": "d0708581-3fd2-43f8-b855-d613f9260b6e",
   "metadata": {},
   "source": [
    "# Data Science Tools and Ecosystem"
   ]
  },
  {
   "cell_type": "markdown",
   "id": "7bee54fb-8bae-4e24-8586-3c08bfc801ae",
   "metadata": {},
   "source": [
    "In this notebook, Data Science Tools and Ecosystem are summarized."
   ]
  },
  {
   "cell_type": "markdown",
   "id": "973dc8f2-230b-423d-95dc-170c396c1ab4",
   "metadata": {},
   "source": [
    "**Objectives**\n",
    "\n",
    "- Inserting a markdown cell\n",
    "- Creating a code cell\n",
    "- Knowing about programming languages used in Data Science\n",
    "- Using Jupiter Notebooks\n",
    "\n"
   ]
  },
  {
   "cell_type": "markdown",
   "id": "f5160999-d340-4953-ab98-4ca92a3e0e55",
   "metadata": {},
   "source": [
    "Some of the commonly used libraries used by Data Scientists include:"
   ]
  },
  {
   "cell_type": "markdown",
   "id": "62f461b9-4c23-4919-b409-98165b6d124c",
   "metadata": {},
   "source": [
    "- pandas\n",
    "- numpy\n",
    "- matplotlib"
   ]
  },
  {
   "cell_type": "markdown",
   "id": "605e9ee9-d309-4a8f-8aec-dde113df9609",
   "metadata": {},
   "source": [
    "| Data Science Tools  |\n",
    "|---------------------|\n",
    "| Jupyter Notebook    |\n",
    "| RStudio             |\n",
    "| VS Code             |\n"
   ]
  },
  {
   "cell_type": "markdown",
   "id": "f2c7089a-a70c-4b83-b88d-14d5f4f12677",
   "metadata": {},
   "source": [
    "### Below are a few examples of evaluating arithmetic expressions in Python\n",
    "2+8*56\n",
    "5**2\n",
    "-3/14"
   ]
  },
  {
   "cell_type": "markdown",
   "id": "87ee2936-b458-4794-b500-54e7e7220d17",
   "metadata": {},
   "source": [
    "Some of the popular languages that Data Scientists use are:\n",
    "1. Python\n",
    "2. Java\n",
    "3. C++"
   ]
  },
  {
   "cell_type": "code",
   "execution_count": 2,
   "id": "7ff96ac8-9c75-48d2-9a1f-22d96469919f",
   "metadata": {
    "tags": []
   },
   "outputs": [
    {
     "data": {
      "text/plain": [
       "17"
      ]
     },
     "execution_count": 2,
     "metadata": {},
     "output_type": "execute_result"
    }
   ],
   "source": [
    "# This a simple arithmetic expression to mutiply then add integers\n",
    "(3*4)+5"
   ]
  },
  {
   "cell_type": "code",
   "execution_count": 5,
   "id": "88f73be5-ee19-4017-bffb-b7773d8abd80",
   "metadata": {
    "tags": []
   },
   "outputs": [
    {
     "name": "stdout",
     "output_type": "stream",
     "text": [
      "3\n"
     ]
    }
   ],
   "source": [
    "# This will convert 200 minutes to hours by diving by 60\n",
    "minutes = 200\n",
    "hours = int(minutes/60)\n",
    "print (hours)"
   ]
  },
  {
   "cell_type": "markdown",
   "id": "b3c6a9fc-1a97-44b6-b5f9-94b071307763",
   "metadata": {},
   "source": [
    "## Author"
   ]
  },
  {
   "cell_type": "code",
   "execution_count": null,
   "id": "b7a35c18-678f-4ec3-ad7c-4cc7015ce455",
   "metadata": {},
   "outputs": [],
   "source": []
  }
 ],
 "metadata": {
  "kernelspec": {
   "display_name": "Python",
   "language": "python",
   "name": "conda-env-python-py"
  },
  "language_info": {
   "codemirror_mode": {
    "name": "ipython",
    "version": 3
   },
   "file_extension": ".py",
   "mimetype": "text/x-python",
   "name": "python",
   "nbconvert_exporter": "python",
   "pygments_lexer": "ipython3",
   "version": "3.7.12"
  }
 },
 "nbformat": 4,
 "nbformat_minor": 5
}
